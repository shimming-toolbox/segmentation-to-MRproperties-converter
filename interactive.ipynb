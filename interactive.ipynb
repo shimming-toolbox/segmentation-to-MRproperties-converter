{
 "cells": [
  {
   "cell_type": "code",
   "execution_count": 4,
   "id": "e361ba8c-7b2e-40f3-a20e-b0c5a8e9ce45",
   "metadata": {},
   "outputs": [],
   "source": [
    "import numpy\n",
    "import nibabel as nib\n",
    "import os\n",
    "import matplotlib.pyplot as plt\n",
    "# Importing our own functions\n",
    "from functions.volume import volume\n",
    "from functions.label import SegmentationLabel"
   ]
  },
  {
   "cell_type": "markdown",
   "id": "bceda713-c0c6-4103-8a02-57e922059f78",
   "metadata": {},
   "source": [
    "# Example running the code\n",
    "In this notebook will guide on how to use a segmentation file and obtain MR property volumes from it"
   ]
  },
  {
   "cell_type": "code",
   "execution_count": 5,
   "id": "9df448aa-df9c-40fb-bf49-b60f462745ab",
   "metadata": {},
   "outputs": [
    {
     "data": {
      "text/plain": [
       "(400, 400, 326)"
      ]
     },
     "execution_count": 5,
     "metadata": {},
     "output_type": "execute_result"
    }
   ],
   "source": [
    "# Inside the example folder we have already segmented files from CT\n",
    "# dataset by Gatidis et al. https://doi.org/10.1038/s41597-022-01718-3\n",
    "# Attribution to the data set link : https://creativecommons.org/licenses/by/4.0/\n",
    "ct_wb_seg = nib.load(\"example/final_total_seg.nii.gz\") # wb stands for whole body\n",
    "# We can acquire the numpy data from the nifti\n",
    "labels = ct_wb_seg.get_fdata()\n",
    "# And we can quickly see the shape of our data\n",
    "labels.shape"
   ]
  },
  {
   "cell_type": "markdown",
   "id": "b9611a5d-7acb-402d-af35-b424dc53f484",
   "metadata": {},
   "source": [
    "# MR Property Phantom Creation"
   ]
  },
  {
   "cell_type": "code",
   "execution_count": 7,
   "id": "d818cd06-5962-4633-b5fc-7048e055d554",
   "metadata": {},
   "outputs": [],
   "source": [
    "# Here we call the Volume function\n",
    "# This volume function works for whole body - Total Seg CT\n",
    "new_vol = volume(ct_wb_seg)"
   ]
  },
  {
   "cell_type": "code",
   "execution_count": 9,
   "id": "62ef0c98-bb5c-443a-9eef-02aa0cd54b0e",
   "metadata": {},
   "outputs": [
    {
     "name": "stdout",
     "output_type": "stream",
     "text": [
      "Label ID 256 not found.\n",
      "Label ID 256 not found.\n",
      "Label ID 289 not found.\n",
      "Label ID 289 not found.\n"
     ]
    }
   ],
   "source": [
    "# Given that we know that all the labels from Total Seg should be the same\n",
    "# We can set all the labels automatically with a specific method\n",
    "new_vol.create_segmentation_labels(\"TotalSegmentator\",\"v2\")"
   ]
  },
  {
   "cell_type": "code",
   "execution_count": null,
   "id": "5366559c-2bfd-4996-a278-49a0e9ab5b73",
   "metadata": {},
   "outputs": [],
   "source": [
    "new_vol.group_seg_labels(\"TotalSegmentator\",\"v2\")"
   ]
  },
  {
   "cell_type": "markdown",
   "id": "9c428799-831d-4d29-a8df-96af30d52ccc",
   "metadata": {},
   "source": [
    "This Labels not found are pre-defined labels that work with final_sc_seg.nii.gz </br>\n",
    "This file will be used later in the example of creating new labels :)"
   ]
  },
  {
   "cell_type": "code",
   "execution_count": 6,
   "id": "2f51deeb-cfe8-42b7-8b8a-9c652bc67a4c",
   "metadata": {},
   "outputs": [
    {
     "name": "stdout",
     "output_type": "stream",
     "text": [
      "CPU times: total: 3.55 s\n",
      "Wall time: 16.9 s\n"
     ]
    }
   ],
   "source": [
    "%%time\n",
    "# Now we have all the labels from the whole body stablished\n",
    "# By default T2star and Susceptibility values are complete \n",
    "# You can check the values used in the look-up table on the README file\n",
    "sus_dist = new_vol.create_sus_dist()\n",
    "# The output will be a Numpy array "
   ]
  },
  {
   "cell_type": "code",
   "execution_count": 7,
   "id": "2d89b6d7-4841-4b6b-8c33-62dd74eef5fc",
   "metadata": {},
   "outputs": [],
   "source": [
    "# A method is created to save the susceptibility from Numpy array to Nifti file\n",
    "new_vol.save_sus_dist_nii()\n",
    "# By default it will save it in the \"output\" folder"
   ]
  },
  {
   "cell_type": "markdown",
   "id": "17fd0318-c17e-42cc-9e4a-1b59d03f08e2",
   "metadata": {},
   "source": [
    "In a similar way we can create proton density and T2star volumes, acquire their numpy type data and then save them as nifti files"
   ]
  },
  {
   "cell_type": "code",
   "execution_count": 8,
   "id": "d51c3a9b-9031-49ec-9942-8989fc43c32f",
   "metadata": {},
   "outputs": [
    {
     "name": "stdout",
     "output_type": "stream",
     "text": [
      "CPU times: total: 5.05 s\n",
      "Wall time: 31.9 s\n"
     ]
    }
   ],
   "source": [
    "%%time\n",
    "pd_vol = new_vol.create_pd_vol()\n",
    "t2_star_vol = new_vol.create_t2_star_vol()"
   ]
  },
  {
   "cell_type": "code",
   "execution_count": 9,
   "id": "9f46511a-da48-4116-9aa3-b0f687337b5d",
   "metadata": {},
   "outputs": [],
   "source": [
    "new_vol.save_pd_dist()\n",
    "new_vol.save_t2star_dist()"
   ]
  },
  {
   "cell_type": "markdown",
   "id": "e347de87-a1b1-437f-9353-eee1cd0b2334",
   "metadata": {},
   "source": [
    "Now you will be able to open any of this 3 volumes on a viewer of choice. </br>\n",
    "As mentioned in the README file, if you use ITK snap you can open the segmentation labels."
   ]
  }
 ],
 "metadata": {
  "kernelspec": {
   "display_name": "Python 3 (ipykernel)",
   "language": "python",
   "name": "python3"
  },
  "language_info": {
   "codemirror_mode": {
    "name": "ipython",
    "version": 3
   },
   "file_extension": ".py",
   "mimetype": "text/x-python",
   "name": "python",
   "nbconvert_exporter": "python",
   "pygments_lexer": "ipython3",
   "version": "3.10.11"
  }
 },
 "nbformat": 4,
 "nbformat_minor": 5
}
