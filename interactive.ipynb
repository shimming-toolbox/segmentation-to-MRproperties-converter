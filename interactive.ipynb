{
 "cells": [
  {
   "cell_type": "code",
   "execution_count": 2,
   "id": "e361ba8c-7b2e-40f3-a20e-b0c5a8e9ce45",
   "metadata": {},
   "outputs": [],
   "source": [
    "import numpy\n",
    "import nibabel as nib\n",
    "import os\n",
    "import matplotlib.pyplot as plt\n",
    "# Importing our own functions\n",
    "from functions.Volume import Volume\n",
    "from functions.label import SegmentationLabel"
   ]
  },
  {
   "cell_type": "markdown",
   "id": "bceda713-c0c6-4103-8a02-57e922059f78",
   "metadata": {},
   "source": [
    "# Example running the code\n",
    "In this notebook will guide on how to use a segmentation file and obtain MR property volumes from it"
   ]
  },
  {
   "cell_type": "code",
   "execution_count": 3,
   "id": "9df448aa-df9c-40fb-bf49-b60f462745ab",
   "metadata": {},
   "outputs": [
    {
     "data": {
      "text/plain": [
       "(400, 400, 326)"
      ]
     },
     "execution_count": 3,
     "metadata": {},
     "output_type": "execute_result"
    }
   ],
   "source": [
    "# Inside the example folder we have already segmented files from CT\n",
    "# dataset by Gatidis et al. https://doi.org/10.1038/s41597-022-01718-3\n",
    "# Attribution to the data set link : https://creativecommons.org/licenses/by/4.0/\n",
    "ct_wb_seg = nib.load(\"example/final_total_seg.nii.gz\") # wb stands for whole body\n",
    "# We can acquire the numpy data from the nifti\n",
    "labels = ct_wb_seg.get_fdata()\n",
    "# And we can quickly see the shape of our data\n",
    "labels.shape"
   ]
  },
  {
   "cell_type": "markdown",
   "id": "b9611a5d-7acb-402d-af35-b424dc53f484",
   "metadata": {},
   "source": [
    "# MR Property Phantom Creation"
   ]
  },
  {
   "cell_type": "code",
   "execution_count": 4,
   "id": "d818cd06-5962-4633-b5fc-7048e055d554",
   "metadata": {},
   "outputs": [],
   "source": [
    "# Here we call the Volume function\n",
    "# This volume function works for whole body - Total Seg CT\n",
    "new_vol = Volume(ct_wb_seg)"
   ]
  },
  {
   "cell_type": "code",
   "execution_count": 5,
   "id": "62ef0c98-bb5c-443a-9eef-02aa0cd54b0e",
   "metadata": {},
   "outputs": [
    {
     "name": "stdout",
     "output_type": "stream",
     "text": [
      "Label ID 256 not found.\n",
      "Label ID 256 not found.\n",
      "Label ID 289 not found.\n",
      "Label ID 289 not found.\n"
     ]
    }
   ],
   "source": [
    "# Given that we know that all the labels from Total Seg should be the same\n",
    "# We can set all the labels automatically with a specific method\n",
    "new_vol.create_segmentation_labels()"
   ]
  },
  {
   "cell_type": "markdown",
   "id": "9c428799-831d-4d29-a8df-96af30d52ccc",
   "metadata": {},
   "source": [
    "This Labels not found are pre-defined labels that work with final_sc_seg.nii.gz </br>\n",
    "This file will be used later in the example of creating new labels :)"
   ]
  },
  {
   "cell_type": "code",
   "execution_count": 6,
   "id": "2f51deeb-cfe8-42b7-8b8a-9c652bc67a4c",
   "metadata": {},
   "outputs": [
    {
     "name": "stdout",
     "output_type": "stream",
     "text": [
      "CPU times: total: 3.55 s\n",
      "Wall time: 16.9 s\n"
     ]
    }
   ],
   "source": [
    "%%time\n",
    "# Now we have all the labels from the whole body stablished\n",
    "# By default T2star and Susceptibility values are complete \n",
    "# You can check the values used in the look-up table on the README file\n",
    "sus_dist = new_vol.create_sus_dist()\n",
    "# The output will be a Numpy array "
   ]
  },
  {
   "cell_type": "code",
   "execution_count": 7,
   "id": "2d89b6d7-4841-4b6b-8c33-62dd74eef5fc",
   "metadata": {},
   "outputs": [],
   "source": [
    "# A method is created to save the susceptibility from Numpy array to Nifti file\n",
    "new_vol.save_sus_dist_nii()\n",
    "# By default it will save it in the \"output\" folder"
   ]
  },
  {
   "cell_type": "markdown",
   "id": "17fd0318-c17e-42cc-9e4a-1b59d03f08e2",
   "metadata": {},
   "source": [
    "In a similar way we can create proton density and T2star volumes, acquire their numpy type data and then save them as nifti files"
   ]
  },
  {
   "cell_type": "code",
   "execution_count": 8,
   "id": "d51c3a9b-9031-49ec-9942-8989fc43c32f",
   "metadata": {},
   "outputs": [
    {
     "name": "stdout",
     "output_type": "stream",
     "text": [
      "CPU times: total: 5.05 s\n",
      "Wall time: 31.9 s\n"
     ]
    }
   ],
   "source": [
    "%%time\n",
    "pd_vol = new_vol.create_pd_vol()\n",
    "t2_star_vol = new_vol.create_t2_star_vol()"
   ]
  },
  {
   "cell_type": "code",
   "execution_count": 9,
   "id": "9f46511a-da48-4116-9aa3-b0f687337b5d",
   "metadata": {},
   "outputs": [],
   "source": [
    "new_vol.save_pd_dist()\n",
    "new_vol.save_t2star_dist()"
   ]
  },
  {
   "cell_type": "markdown",
   "id": "e347de87-a1b1-437f-9353-eee1cd0b2334",
   "metadata": {},
   "source": [
    "Now you will be able to open any of this 3 volumes on a viewer of choice. </br>\n",
    "As mentioned in the README file, if you use ITK snap you can open the segmentation labels."
   ]
  },
  {
   "cell_type": "markdown",
   "id": "f90d6849-55f1-4310-8a57-f6f267f2c2ca",
   "metadata": {},
   "source": [
    "# Label creation"
   ]
  },
  {
   "cell_type": "markdown",
   "id": "2b047e6d-c72c-43f3-9bc8-a055e00135f2",
   "metadata": {},
   "source": [
    "This section will guide you through how to create new labels, you will need SCT toolbox: https://spinalcordtoolbox.com/index.html by De Leener B, Levy S, Dupont SM, Fonov VS, Stikov N, Louis Collins D, Callot V, Cohen-Adad J. SCT: Spinal Cord Toolbox, an open-source software for processing spinal cord MRI data. Neuroimage 2017. </br>\n",
    "In this example we will address a current limitation from Total Seg CT, that is that we cannot differentiate CSF, WM or GM from the Spinal Cord. </br>\n",
    "In order to add them we need to first register the CT image to the PAM50 space. For this we can use the Spinal Cord segmentation and you can manually create landmarks of spine C2 and C5. With this files ready you can automatically register to PAM50 space and procede with creating new labels. </br> \n",
    "If you want, you can also manually add a label (through a process of your liking) and also follow through the steps below. </br>\n",
    "Given that the labeling from anatomical image will have a specific value, when we add a new label we must add it with a value that is not included in the look up table. For example, for CT whole body Total Seg we must use a number higher than 117 to avoid conflicts."
   ]
  },
  {
   "cell_type": "code",
   "execution_count": null,
   "id": "88b36a16-916b-4026-be88-30d1ee203871",
   "metadata": {
    "editable": true,
    "slideshow": {
     "slide_type": ""
    },
    "tags": []
   },
   "outputs": [],
   "source": [
    "# The trick to add a new semgnetation is to use the mask and invert its values\n",
    "sct_maths -i new_label.nii.gz -o inv.nii.gz -sub 1\n",
    "sct_maths -i inv.nii.gz -o inv.nii.gz -mul -1\n",
    "sct_maths -i temp.nii.gz -o no_label.nii.gz -mul inv.nii.gz"
   ]
  },
  {
   "cell_type": "markdown",
   "id": "bdd83860-0029-408c-bdde-e06d0710ecc9",
   "metadata": {},
   "source": [
    "The label we want to add is new_label and we invert it. Then, as we dont want an overlap of labels we multiply the the inversed segmentation and multiply with the volume we want to add the label. Note that we use temp as it is better to create a copy and edit the copy instead of the original."
   ]
  },
  {
   "cell_type": "code",
   "execution_count": 10,
   "id": "befb20bf-c09e-4015-9c97-accf104ba133",
   "metadata": {},
   "outputs": [],
   "source": [
    "#Now the body will have zeroes where the label is going to go\n",
    "# We need to set the value of the label to a number that \n",
    "# does not interfere with the look-up table\n",
    "# For this example, any number higher than 117 would work \n",
    "sct_maths -i reslice_label.nii.gz -o new_label.nii.gz -mul 16\n",
    "sct_maths -i new_label.nii.gz -o new_label.nii.gz -mul 16"
   ]
  },
  {
   "cell_type": "markdown",
   "id": "7800d4ca-014e-498e-bd95-8f70e78cfa3b",
   "metadata": {},
   "source": [
    "We choose to multiply twice because there is a maximum value of 40 to multiply in SCT_maths. We can then create a new nifti file with value of 256 for the mask and 0 elsewhere. </br>\n",
    "Then we just need to add the new label file to the no_label file"
   ]
  },
  {
   "cell_type": "code",
   "execution_count": null,
   "id": "370a25b6-fc7a-4505-8b6d-25efcf5e7691",
   "metadata": {},
   "outputs": [],
   "source": [
    "sct_maths -i no_label.nii.gz -o pro_labels.nii.gz -add new_label.nii.gz"
   ]
  },
  {
   "cell_type": "markdown",
   "id": "5709c6ce-4818-44b7-b7f6-1aef5caf011d",
   "metadata": {},
   "source": [
    "## Important notes\n",
    "- Once a new label is created, if you want to add more labels you will have to work on top of any previously made new volume with added labels, so creating a temporal copy to test first is recommended. </br>\n",
    "- Also recommended, check the mask before multplication as I have deleted some files by multiplying inappropriate inversed masks. </br>\n",
    "- In the \"example\" folder you will find an example of a succesfull implementation of 2 new masks to the CT_wb data that adds labels 289 and 256 to the whole body dataset."
   ]
  }
 ],
 "metadata": {
  "kernelspec": {
   "display_name": "Python 3 (ipykernel)",
   "language": "python",
   "name": "python3"
  },
  "language_info": {
   "codemirror_mode": {
    "name": "ipython",
    "version": 3
   },
   "file_extension": ".py",
   "mimetype": "text/x-python",
   "name": "python",
   "nbconvert_exporter": "python",
   "pygments_lexer": "ipython3",
   "version": "3.10.11"
  }
 },
 "nbformat": 4,
 "nbformat_minor": 5
}
